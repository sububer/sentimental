{
 "cells": [
  {
   "cell_type": "code",
   "execution_count": 2,
   "id": "886b3cc3",
   "metadata": {},
   "outputs": [
    {
     "name": "stdout",
     "output_type": "stream",
     "text": [
      " Volume in drive C is OS\n",
      " Volume Serial Number is 9867-87FD\n",
      "\n",
      " Directory of C:\\Users\\iopet\\sentimental\n",
      "\n",
      "03/24/2022  03:34 PM    <DIR>          .\n",
      "03/24/2022  02:58 PM    <DIR>          ..\n",
      "03/24/2022  02:58 PM             1,799 .gitignore\n",
      "03/24/2022  03:28 PM    <DIR>          .idea\n",
      "03/24/2022  03:34 PM    <DIR>          .ipynb_checkpoints\n",
      "03/24/2022  03:28 PM               870 config_query.py\n",
      "03/24/2022  02:58 PM            13,689 dataset.jsonl\n",
      "03/24/2022  02:58 PM             1,064 LICENSE\n",
      "03/24/2022  02:58 PM             3,286 main.py\n",
      "03/24/2022  02:58 PM             2,536 README.md\n",
      "03/24/2022  03:33 PM                72 Sentiment Analysis.ipynb\n",
      "03/24/2022  02:58 PM             2,438 utils.py\n",
      "               8 File(s)         25,754 bytes\n",
      "               4 Dir(s)  399,455,522,816 bytes free\n"
     ]
    }
   ],
   "source": [
    "!dir"
   ]
  },
  {
   "cell_type": "code",
   "execution_count": 43,
   "id": "e89b671c",
   "metadata": {},
   "outputs": [
    {
     "name": "stdout",
     "output_type": "stream",
     "text": [
      "Getting tweets\n"
     ]
    },
    {
     "name": "stderr",
     "output_type": "stream",
     "text": [
      "Traceback (most recent call last):\n",
      "  File \"main.py\", line 30, in <module>\n",
      "    raise Exception(response.status_code, response.text)\n",
      "Exception: (400, '{\"errors\":[{\"parameters\":{\"end_time\":[\"2022-03-25T00:00Z\"]},\"message\":\"Invalid \\'end_time\\':\\'2022-03-25T00:00Z\\'. \\'end_time\\' must be a minimum of 10 seconds prior to the request time.\"}],\"title\":\"Invalid Request\",\"detail\":\"One or more parameters to your request was invalid.\",\"type\":\"https://api.twitter.com/2/problems/invalid-request\"}')\n"
     ]
    }
   ],
   "source": [
    "!python main.py"
   ]
  },
  {
   "cell_type": "code",
   "execution_count": null,
   "id": "572a378b",
   "metadata": {},
   "outputs": [],
   "source": []
  }
 ],
 "metadata": {
  "kernelspec": {
   "display_name": "Python 3",
   "language": "python",
   "name": "python3"
  },
  "language_info": {
   "codemirror_mode": {
    "name": "ipython",
    "version": 3
   },
   "file_extension": ".py",
   "mimetype": "text/x-python",
   "name": "python",
   "nbconvert_exporter": "python",
   "pygments_lexer": "ipython3",
   "version": "3.7.10"
  }
 },
 "nbformat": 4,
 "nbformat_minor": 5
}
